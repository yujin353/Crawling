{
 "cells": [
  {
   "attachments": {},
   "cell_type": "markdown",
   "metadata": {},
   "source": [
    "# 230103 더페이스샵 크롤링"
   ]
  },
  {
   "attachments": {},
   "cell_type": "markdown",
   "metadata": {},
   "source": [
    "## 1.라이브러리 설치"
   ]
  },
  {
   "cell_type": "markdown",
   "metadata": {},
   "source": [
    "ModuleNotFoundError: No module named \n",
    "\n",
    "!pip install "
   ]
  },
  {
   "cell_type": "code",
   "execution_count": 235,
   "metadata": {},
   "outputs": [],
   "source": [
    "## 셀레니움 라이브러리 설치\n",
    "import selenium\n",
    "from selenium import webdriver\n",
    "from selenium.webdriver import ActionChains\n",
    "from selenium.webdriver.common.keys import Keys\n",
    "from selenium.webdriver.common.by import By\n",
    "from selenium.webdriver.support import expected_conditions as EC \n",
    "from selenium.webdriver.support.ui import Select\n",
    "from selenium.webdriver.support.ui import WebDriverWait"
   ]
  },
  {
   "cell_type": "code",
   "execution_count": 236,
   "metadata": {},
   "outputs": [],
   "source": [
    "from time import sleep\n",
    "import random"
   ]
  },
  {
   "cell_type": "code",
   "execution_count": 237,
   "metadata": {},
   "outputs": [],
   "source": [
    "import pandas as pd \n",
    "from openpyxl.workbook import workbook"
   ]
  },
  {
   "attachments": {},
   "cell_type": "markdown",
   "metadata": {},
   "source": [
    "## 2.드라이버 설정"
   ]
  },
  {
   "cell_type": "code",
   "execution_count": 238,
   "metadata": {},
   "outputs": [],
   "source": [
    "driver = webdriver.Chrome(executable_path = 'chromedriver')\n",
    "options = webdriver.ChromeOptions()\n",
    "options.add_experimental_option('excludeSwitches', ['enable-logging'])\n",
    "driver = webdriver.Chrome(options = options)\n",
    "print(\"##########driver open##########\")"
   ]
  },
  {
   "attachments": {},
   "cell_type": "markdown",
   "metadata": {},
   "source": [
    "## 3.더페이스샵"
   ]
  },
  {
   "attachments": {},
   "cell_type": "markdown",
   "metadata": {},
   "source": [
    "### 3.1.더페이스샵 소속 브랜드 URL 가져오기"
   ]
  },
  {
   "cell_type": "code",
   "execution_count": 239,
   "metadata": {},
   "outputs": [],
   "source": [
    "limit_page = 0\n",
    "brand_url_list = []\n",
    "while limit_page < 1:\n",
    "    try:\n",
    "        thefaceshop_url = \"https://www.naturecollection.com/mall/index.jsp\"\n",
    "        driver.get(url = thefaceshop_url)\n",
    "        sleep(random.randint(3, 8))\n",
    "\n",
    "        try:\n",
    "            ### 브랜드 XPATH\n",
    "            brand_XPATH = driver.find_elements(By.XPATH, \"/html/body/div[2]/div/section/div[2]/ul/li/a\")\n",
    "            sleep(random.randint(1, 5))\n",
    "            print(\"브랜드 개수\", len(brand_XPATH)-2)\n",
    "\n",
    "            if len(brand_XPATH) > 1:\n",
    "                limit_page = limit_page + 1\n",
    "\n",
    "            for idx in range(1,len(brand_XPATH)-1):\n",
    "                brand_url = brand_XPATH[idx].get_attribute('onclick')\n",
    "                brand_url = brand_url[10:38]\n",
    "                brand_url_list.append(brand_url)\n",
    "        except:\n",
    "            limit_page = limit_page + 1\n",
    "    except:\n",
    "        limit_page = limit_page + 1\n",
    "\n",
    "print(\"결과 확인\" , brand_url_list)"
   ]
  },
  {
   "cell_type": "code",
   "execution_count": 240,
   "metadata": {},
   "outputs": [],
   "source": [
    "for idx in range(len(brand_url_list)):\n",
    "    brand_url = \"https://www.naturecollection.com\" + brand_url_list[idx]\n",
    "    print(brand_url)"
   ]
  },
  {
   "attachments": {},
   "cell_type": "markdown",
   "metadata": {},
   "source": [
    "## 4.드라이버 종료"
   ]
  },
  {
   "cell_type": "code",
   "execution_count": 241,
   "metadata": {},
   "outputs": [],
   "source": [
    "sleep(random.randint(2, 5))\n",
    "driver.close()\n",
    "print(\"##########driver close##########\")"
   ]
  },
  {
   "attachments": {},
   "cell_type": "markdown",
   "metadata": {},
   "source": [
    "## 5.파일 저장"
   ]
  },
  {
   "cell_type": "code",
   "execution_count": 242,
   "metadata": {},
   "outputs": [],
   "source": [
    "brand_url_df = pd.DataFrame([brand_url_list])\n",
    "brand_url_df = brand_url_df.transpose()\n",
    "brand_url_df.columns = ['url'] \n",
    "print(brand_url_df)"
   ]
  },
  {
   "cell_type": "code",
   "execution_count": 243,
   "metadata": {},
   "outputs": [],
   "source": [
    "brand_url_df.to_excel(\"230103_더페이스샵소속브랜드URL.xlsx\")"
   ]
  },
  {
   "attachments": {},
   "cell_type": "markdown",
   "metadata": {},
   "source": [
    "## 6. 엑셀파일에서 브랜드 URL 가져오기"
   ]
  },
  {
   "cell_type": "code",
   "execution_count": 244,
   "metadata": {},
   "outputs": [],
   "source": [
    "brand_df = pd.read_excel(\"C:/Users/김유진/OneDrive/바탕 화면/2022 동계인턴/크롤링/230103_더페이스샵소속브랜드URL.xlsx\")\n",
    "print(brand_df)"
   ]
  },
  {
   "attachments": {},
   "cell_type": "markdown",
   "metadata": {},
   "source": [
    "## 7. 드라이버 오픈"
   ]
  },
  {
   "cell_type": "code",
   "execution_count": 245,
   "metadata": {},
   "outputs": [],
   "source": [
    "driver = webdriver.Chrome(executable_path = 'chromedriver')\n",
    "options = webdriver.ChromeOptions()\n",
    "options.add_experimental_option('excludeSwitches', ['enable-logging'])\n",
    "driver = webdriver.Chrome(options = options)\n",
    "print(\"##########driver open##########\")"
   ]
  },
  {
   "cell_type": "markdown",
   "metadata": {},
   "source": [
    "### 3.2. 브랜드 내 카테고리별 제품 번호 가져오기"
   ]
  },
  {
   "cell_type": "code",
   "execution_count": 246,
   "metadata": {},
   "outputs": [],
   "source": [
    "brand_url_list = []\n",
    "product_num_list = []\n",
    "blen = len(brand_df)\n",
    "\n",
    "for idx in range(blen):\n",
    "    print(idx+1, \"==================\")\n",
    "    brand_url = \"https://www.naturecollection.com\" + brand_df['url'][idx]\n",
    "\n",
    "    try:\n",
    "        driver.get(url = brand_url)\n",
    "        brand_url_list.append(brand_url)\n",
    "        sleep(random.randint(3,7))\n",
    "\n",
    "        try:\n",
    "            ## 클릭(카테고리)\n",
    "            category_button_XPATH = driver.find_elements(By.XPATH, \"/html/body/div[2]/div/section/div[5]/ul/li/a\")\n",
    "            print(\"카테고리:\", len(category_button_XPATH))\n",
    "\n",
    "            for bidx in range(len(category_button_XPATH)):\n",
    "                category_name = category_button_XPATH[bidx].text\n",
    "                sleep(random.randint(1,3))\n",
    "\n",
    "                if \"전체\" in category_name:\n",
    "                    continue\n",
    "                elif \"메이크업\" in category_name:\n",
    "                    continue\n",
    "                elif \"헤어\" in category_name:\n",
    "                    continue\n",
    "                elif \"네일\" in category_name:\n",
    "                    continue\n",
    "                elif \"향수\" in category_name:\n",
    "                    continue\n",
    "                elif \"뷰티툴즈\" in category_name:\n",
    "                    continue\n",
    "                elif \"건강식품\" in category_name:\n",
    "                    continue\n",
    "                else:\n",
    "                    category_button_XPATH[bidx].click()\n",
    "                    print(category_button_XPATH[bidx].text)\n",
    "                    sleep(random.randint(2,5))\n",
    "\n",
    "                    pCount_XPATH = driver.find_element(By.XPATH, \"/html/body/div[2]/div/section/div[6]/div/div[1]/span\")\n",
    "                    pCount = int(pCount_XPATH.text)\n",
    "                    print(pCount)\n",
    "\n",
    "                    limit = 0\n",
    "                    while limit < 1:\n",
    "                        ## 클릭(더보기)\n",
    "                        more_button_XPATH = driver.find_elements(By.XPATH, \"/html/body/div[2]/div/section/div[7]/div[2]/div[2]/a\")\n",
    "                        try:\n",
    "                            more_button_XPATH[0].click()\n",
    "                            sleep(random.randint(3,7))\n",
    "                        \n",
    "                        except:\n",
    "                            print(\"more_buttom click error\")\n",
    "                            limit = limit + 1\n",
    "                            break\n",
    "\n",
    "                    try:\n",
    "                        ## 제품 번호 추출\n",
    "                        product_num_XPATH = driver.find_elements(By.XPATH, \"/html/body/div[2]/div/section/div[7]/div[2]/div[1]/ul/li/a\")\n",
    "                        print(len(product_num_XPATH))\n",
    "\n",
    "                        for count in range(pCount):\n",
    "                            product_num = product_num_XPATH[count].get_attribute('onclick')\n",
    "                            product_num = product_num[13:21]\n",
    "                            product_num_list.append(product_num)\n",
    "                            print(product_num)\n",
    "\n",
    "                    except:\n",
    "                        print(\"product_num get error\")\n",
    "        except:\n",
    "            print(\"category click error\")\n",
    "    except:\n",
    "        print(\"brand_url get error\")"
   ]
  },
  {
   "cell_type": "markdown",
   "metadata": {},
   "source": [
    "## 9.드라이버 종료"
   ]
  },
  {
   "cell_type": "code",
   "execution_count": 247,
   "metadata": {},
   "outputs": [],
   "source": [
    "sleep(random.randint(2, 5))\n",
    "driver.close()\n",
    "print(\"##########driver close##########\")"
   ]
  },
  {
   "cell_type": "markdown",
   "metadata": {},
   "source": [
    "## 10. 파일 저장 (제품 번호)"
   ]
  },
  {
   "cell_type": "code",
   "execution_count": 248,
   "metadata": {},
   "outputs": [],
   "source": [
    "product_num_df = pd.DataFrame([product_num_list])\n",
    "product_num_df = product_num_df.transpose()\n",
    "product_num_df.columns = ['url'] \n",
    "#print(product_num_df)"
   ]
  },
  {
   "cell_type": "code",
   "execution_count": 249,
   "metadata": {},
   "outputs": [],
   "source": [
    "product_num_df.to_excel(\"230104_더페이스샵 제품번호.xlsx\")"
   ]
  },
  {
   "cell_type": "markdown",
   "metadata": {},
   "source": [
    "## 11. 엑셀 파일에서 제품 번호 가져오기"
   ]
  },
  {
   "cell_type": "code",
   "execution_count": 250,
   "metadata": {},
   "outputs": [
    {
     "name": "stdout",
     "output_type": "stream",
     "text": [
      "     Unnamed: 0       url\n",
      "0             0  AF015652\n",
      "1             1  AF015634\n",
      "2             2  AF015611\n",
      "3             3  AF015601\n",
      "4             4  AF015589\n",
      "..          ...       ...\n",
      "824         824  AF014820\n",
      "825         825  AF014230\n",
      "826         826  AF011241\n",
      "827         827  AF010992\n",
      "828         828  AF013283\n",
      "\n",
      "[829 rows x 2 columns]\n"
     ]
    }
   ],
   "source": [
    "product_num_df = pd.read_excel(\"C:/Users/김유진/OneDrive/바탕 화면/2022 동계인턴/크롤링/230104_더페이스샵 제품번호.xlsx\")\n",
    "print(product_num_df)"
   ]
  },
  {
   "cell_type": "markdown",
   "metadata": {},
   "source": [
    "## 12. 드라이버 오픈"
   ]
  },
  {
   "cell_type": "code",
   "execution_count": 251,
   "metadata": {},
   "outputs": [],
   "source": [
    "driver = webdriver.Chrome(executable_path = 'chromedriver')\n",
    "options = webdriver.ChromeOptions()\n",
    "options.add_experimental_option('excludeSwitches', ['enable-logging'])\n",
    "driver = webdriver.Chrome(options = options)\n",
    "print(\"##########driver open##########\")"
   ]
  },
  {
   "cell_type": "markdown",
   "metadata": {},
   "source": [
    "## 3.3. 상세 페이지 접속"
   ]
  },
  {
   "cell_type": "code",
   "execution_count": 252,
   "metadata": {},
   "outputs": [],
   "source": [
    "product_url_list = []\n",
    "category_list = []\n",
    "brand_name_list = []\n",
    "product_name_list = []\n",
    "product_img_list = []\n",
    "origin_price_list = []\n",
    "sale_price_list = []\n",
    "# sale_time_list = []\n",
    "product_detail_img_list = []\n",
    "## 구매정보 클릭 후, 수집되는 리스트\n",
    "ml_info_list = []\n",
    "REC_skin_type_list = []\n",
    "use_possible_list = []\n",
    "how_to_use_list = []\n",
    "oem_list = []\n",
    "ingred_list = []\n",
    "functional_test_list = []\n",
    "\n",
    "plen = len(product_num_df);\n",
    "for idx in range(plen):\n",
    "    print(idx+1, \"==================\")\n",
    "    product_url = \"https://www.naturecollection.com/mall/product/product-view.jsp?dpid=\" + product_num_df['url'][idx]\n",
    "\n",
    "    try:\n",
    "        driver.get(url = product_url)\n",
    "        ## 해당 URL 주소\n",
    "        product_url_list.append(product_url)\n",
    "        sleep(random.randint(3, 7))\n",
    "\n",
    "        try:\n",
    "            ## 카테고리 \n",
    "            category_XPATH = driver.find_element(By.XPATH, \"/html/body/div[2]/div[2]/section/div/div[1]/ul/li[3]/span\")\n",
    "            category = category_XPATH.text\n",
    "            print(\"카테고리:\", category)\n",
    "            category_list.append(category)\n",
    "            sleep(random.randint(1,4))\n",
    "        except:\n",
    "            category_list.append(\"FALSE\")\n",
    "            sleep(random.randint(1,4))  \n",
    "\n",
    "        try:\n",
    "            ## 브랜드\n",
    "            brand_name_XPATH = driver.find_element(By.XPATH, \"/html/body/div[2]/div[2]/section/div/div[2]/div/form/div/div[1]/a\")\n",
    "            brand_name = brand_name_XPATH.text\n",
    "            print(\"브랜드명:\", brand_name)\n",
    "            brand_name_list.append(brand_name)\n",
    "            sleep(random.randint(1,4))\n",
    "        except:\n",
    "            brand_name_list.append(\"FALSE\")\n",
    "            sleep(random.randint(1,4))  \n",
    "\n",
    "        try:\n",
    "            ## 제품\n",
    "            product_name_XPATH = driver.find_element(By.XPATH, \"/html/body/div[2]/div[2]/section/div/div[2]/div/form/div/div[1]/p\")\n",
    "            product_name = product_name_XPATH.text\n",
    "            print(\"제품명:\", product_name)\n",
    "            product_name_list.append(product_name)\n",
    "            sleep(random.randint(1,4))      \n",
    "        except:\n",
    "            product_name_list.append(\"FALSE\")\n",
    "            sleep(random.randint(1,4))  \n",
    "\n",
    "        try:\n",
    "            ## 가격(원가, 할인가)\n",
    "            price_XPATH = driver.find_elements(By.XPATH, \"/html/body/div[2]/div[2]/section/div/div[2]/div/form/div/div[1]/div[2]/span\")\n",
    "            if plen == 2:\n",
    "                origin_price= driver.find_element(By.XPATH, \"/html/body/div[2]/div[2]/section/div/div[2]/div/form/div/div[1]/div[2]/span[2]/span\").text\n",
    "                print(origin_price)\n",
    "                sale_price = driver.find_element(By.XPATH, \"/html/body/div[2]/div[2]/section/div/div[2]/div/form/div/div[1]/div[2]/strong/span\").text\n",
    "                ### 단위 제거\n",
    "                sale_price = sale_price.replace(\"\\\"\", \"\")\n",
    "                sale_price = sale_price.replace(\"원\", \"\")\n",
    "                print(\"원가:\", origin_price, \"-->\", \" 할인가:\", sale_price)\n",
    "                origin_price_list.append(origin_price)\n",
    "                sale_price_list.append(sale_price)\n",
    "            elif plen == 0:\n",
    "                origin_price = driver.find_element(By.XPATH, \"/html/body/div[2]/div[2]/section/div/div[2]/div/form/div/div[1]/div[2]/strong/span\").text\n",
    "                origin_price = origin_price.replace(\"원\", \"\")\n",
    "                print(\"원가:\", origin_price)\n",
    "                origin_price_list.append(origin_price)\n",
    "            else:\n",
    "                continue\n",
    "        except:\n",
    "            origin_price_list.append(\"FALSE\")\n",
    "            sale_price_list.append(\"FALSE\")\n",
    "            sleep(random.randint(1,4))\n",
    "            \n",
    "        try:\n",
    "            ## 제품 이미지\n",
    "            product_img_XPATH = driver.find_elements(By.XPATH, \"/html/body/div[2]/div[2]/section/div/div[2]/div/div/div[2]/div[1]/ul/li/img\")\n",
    "            if len(product_img_XPATH) > 1:\n",
    "                product_img = \"\"\n",
    "                ### 이미지가 여러개인 경우\n",
    "                for img in range(len(product_img_XPATH)):\n",
    "                    product_img = product_img + product_img_XPATH[img].get_attribute('src')\n",
    "                    product_img = product_img + \"||^^||\"\n",
    "                ## product_img = product_img.replace(\"/images/goods/85/\", \"/images/goods/550/\")     // 이미지 크기 확대\n",
    "                print(\"제품 이미지 경로:\", product_img)\n",
    "                product_img_list.append(product_img)\n",
    "                sleep(random.randint(1,4))\n",
    "            elif len(product_img_XPATH) == 1:\n",
    "                product_img = product_img_XPATH[0].get_attribute('src')\n",
    "                # product_img = product_img.replace(\"/images/goods/85/\", \"/images/goods/550/\")\n",
    "                print(\"제품 이미지 경로:\", product_img)\n",
    "                product_img_list.append(product_img)\n",
    "                sleep(random.randint(1,4))\n",
    "        except:\n",
    "            product_img_list.append(\"FALSE\")\n",
    "            sleep(random.randint(1,4))  \n",
    "\n",
    "        try:\n",
    "            ## 상세설명(이미지)\n",
    "            product_detail_img_XPATH = driver.find_elements(By.XPATH, \"/html/body/div[2]/div[2]/section/div/div[8]/p/img\")#(By.CLASS_NAME, \"contEditor\")[0].find_elements(By.TAG_NAME, \"img\")\n",
    "            sleep(random.randint(1,4)) \n",
    "            product_detail_img = \"\"\n",
    "            if len(product_detail_img_XPATH) > 1:\n",
    "                for img in range(len(product_detail_img_XPATH)):\n",
    "                    product_detail_img = product_detail_img + product_detail_img_XPATH[img].get_attribute('src')\n",
    "                    product_detail_img = product_detail_img + \"||^^||\"\n",
    "                print(\"상세설명 이미지:\", product_detail_img)\n",
    "                product_detail_img_list.append(product_detail_img)\n",
    "            elif len(product_detail_img_XPATH) == 1:\n",
    "                product_detail_img = product_detail_img_XPATH[0].get_attribute('src')\n",
    "                print(\"상세설명 이미지:\", product_detail_img)\n",
    "                product_detail_img_list.append(product_detail_img)\n",
    "        except:\n",
    "            product_detail_img_list.append(\"FALSE\")\n",
    "            sleep(random.randint(1,4))\n",
    "\n",
    "        try:\n",
    "            ## 클릭(유의사항)\n",
    "            info_button_XPATH = driver.find_elements(By.XPATH, \"/html/body/div[2]/div[2]/section/div/div[5]/ul/li[2]/a/span[2]\")                          \n",
    "            info_button_XPATH[0].click()\n",
    "            sleep(random.randint(2,5))\n",
    "\n",
    "            try:\n",
    "                ## 용량\n",
    "                ml_info_XPATH = driver.find_elements(By.XPATH, \"/html/body/div[2]/div[2]/section/div/div[7]/table/tbody/tr[1]/td\")\n",
    "                ml_info = ml_info_XPATH[0].text\n",
    "                print(\"용량 또는 증량:\", ml_info)\n",
    "                ml_info_list.append(ml_info)\n",
    "                sleep(random.randint(2,5))\n",
    "            except:\n",
    "                ml_info_list.append(\"FALSE\")\n",
    "                sleep(random.randint(2,5))\n",
    "\n",
    "            try:\n",
    "                ## 제품주요사항\n",
    "                REC_skin_type_XPATH = driver.find_elements(By.XPATH, \"/html/body/div[2]/div[2]/section/div/div[7]/table/tbody/tr[2]/td\")\n",
    "                REC_skin_type = REC_skin_type_XPATH[0].text\n",
    "                print(\"제품 주요 사항:\", REC_skin_type)\n",
    "                REC_skin_type_list.append(REC_skin_type)\n",
    "                sleep(random.randint(2,5))\n",
    "            except:\n",
    "                REC_skin_type_list.append(\"FALSE\")\n",
    "                sleep(random.randint(2,5))\n",
    "\n",
    "            try:\n",
    "                ## 사용기간(개봉 후 사용기간)\n",
    "                use_possible_XPATH = driver.find_elements(By.XPATH, \"/html/body/div[2]/div[2]/section/div/div[7]/table/tbody/tr[3]/td\")\n",
    "                use_possible = use_possible_XPATH[0].text\n",
    "                print(\"사용기간:\", use_possible)\n",
    "                use_possible_list.append(use_possible)\n",
    "                sleep(random.randint(2,5))\n",
    "            except:\n",
    "                use_possible_list.append(\"FALSE\")\n",
    "                sleep(random.randint(2,5))\n",
    "\n",
    "            try:\n",
    "                ## 사용방법\n",
    "                how_to_use_XPATH = driver.find_elements(By.XPATH, \"/html/body/div[2]/div[2]/section/div/div[7]/table/tbody/tr[4]/td\")\n",
    "                how_to_use = how_to_use_XPATH[0].text\n",
    "                print(\"사용방법:\", how_to_use)\n",
    "                how_to_use_list.append(how_to_use)\n",
    "                sleep(random.randint(2,5))\n",
    "            except:\n",
    "                how_to_use_list.append(\"FALSE\")\n",
    "                sleep(random.randint(2,5))\n",
    "\n",
    "            try:\n",
    "                ## 화장품제조업자/화장품책임판매업자\n",
    "                oem_XPATH = driver.find_elements(By.XPATH, \"/html/body/div[2]/div[2]/section/div/div[7]/table/tbody/tr[5]/td\")\n",
    "                oem = oem_XPATH[0].text\n",
    "                print(\"화장품제조업자:\", oem)\n",
    "                oem_list.append(oem)\n",
    "                sleep(random.randint(2,5))\n",
    "            except:\n",
    "                oem_list.append(\"FALSE\")\n",
    "                sleep(random.randint(2,5))\n",
    "            \n",
    "            try:\n",
    "                ingred_XPATH = driver.find_elements(By.XPATH, \"/html/body/div[2]/div[2]/section/div/div[7]/table/tbody/tr[6]/td\")\n",
    "                ingred = ingred_XPATH[0].text\n",
    "                print(\"전성분:\", ingred)\n",
    "                ingred_list.append(ingred)\n",
    "                sleep(random.randint(2,5))\n",
    "            except:\n",
    "                ingred_list.append(\"FALSE\")\n",
    "                sleep(random.randint(2,5))\n",
    "\n",
    "            try:\n",
    "                functional_test_XPATH = driver.find_elements(By.XPATH, \"/html/body/div[2]/div[2]/section/div/div[7]/table/tbody/tr[7]/td\")\n",
    "                functional_test = functional_test_XPATH[0].text\n",
    "                print(\"기능성 화장품 식품의약처 심사 여부:\", functional_test)\n",
    "                functional_test_list.append(functional_test)\n",
    "                sleep(random.randint(2,5))\n",
    "            except:\n",
    "                functional_test_list.append(\"FALSE\")\n",
    "                sleep(random.randint(2,5))\n",
    "\n",
    "        except:\n",
    "            ml_info_list.append(\"FALSE\")\n",
    "            REC_skin_type_list.append(\"FALSE\")\n",
    "            use_possible_list.append(\"FALSE\")\n",
    "            how_to_use_list.append(\"FALSE\")\n",
    "            oem_list.append(\"FALSE\")\n",
    "            ingred_list.append(\"FALSE\")\n",
    "            functional_test_list.append(\"FALSE\")\n",
    "            sleep(random.randint(2,5))\n",
    "\n",
    "    except:\n",
    "        product_url_list.append(\"FALSE\")\n",
    "        category_list.append(\"FALSE\")\n",
    "        brand_name_list.append(\"FALSE\")\n",
    "        product_name_list.append(\"FALSE\")\n",
    "        product_img_list.append(\"FALSE\")\n",
    "        origin_price_list.append(\"FALSE\")\n",
    "        sale_price_list.append(\"FALSE\")\n",
    "        # sale_time_list.append(\"FALSE\")\n",
    "        product_detail_img_list.append(\"FALSE\")\n",
    "        sleep(random.randint(1,4))  "
   ]
  },
  {
   "attachments": {},
   "cell_type": "markdown",
   "metadata": {},
   "source": [
    "## 14.드라이버 종료\n"
   ]
  },
  {
   "cell_type": "code",
   "execution_count": 253,
   "metadata": {},
   "outputs": [],
   "source": [
    "sleep(random.randint(3, 5))\n",
    "driver.close()"
   ]
  },
  {
   "cell_type": "code",
   "execution_count": 254,
   "metadata": {},
   "outputs": [],
   "source": [
    "product_df = pd.DataFrame([product_url_list, category_list, \n",
    "                           brand_name_list, product_name_list, product_img_list,\n",
    "                           origin_price_list, sale_price_list, \n",
    "                           product_detail_img_list,\n",
    "                           ## 클릭 (구매 정보)\n",
    "                           ml_info_list, REC_skin_type_list, use_possible_list, how_to_use_list,\n",
    "                           oem_list, ingred_list, functional_test_list])  #sale_time_list,\n",
    "product_df = product_df.transpose()\n",
    "product_df.columns = ['url', 'category', \n",
    "                      'brand_name', 'product_name', 'product_img_path',\n",
    "                      'origin_price', 'sale_price', \n",
    "                      'product_detail_img',\n",
    "                      'ml_info', 'rec_skin_type', 'use_possible', 'how to use',\n",
    "                      'oem_info', 'ingred', 'functional_test']    #'sale_time',\n",
    "print(product_df)"
   ]
  },
  {
   "attachments": {},
   "cell_type": "markdown",
   "metadata": {},
   "source": [
    "### 6.3.파일 저장"
   ]
  },
  {
   "cell_type": "code",
   "execution_count": 255,
   "metadata": {},
   "outputs": [],
   "source": [
    "product_df.to_excel(\"230109_더페이스샵제품정보.xlsx\")"
   ]
  },
  {
   "cell_type": "markdown",
   "metadata": {},
   "source": [
    "## 15. 드라이버 오픈"
   ]
  },
  {
   "cell_type": "code",
   "execution_count": 256,
   "metadata": {},
   "outputs": [
    {
     "name": "stdout",
     "output_type": "stream",
     "text": [
      "##########driver open##########\n"
     ]
    }
   ],
   "source": [
    "driver = webdriver.Chrome(executable_path = 'chromedriver')\n",
    "options = webdriver.ChromeOptions()\n",
    "options.add_experimental_option('excludeSwitches', ['enable-logging'])\n",
    "driver = webdriver.Chrome(options = options)\n",
    "print(\"##########driver open##########\")"
   ]
  },
  {
   "cell_type": "markdown",
   "metadata": {},
   "source": [
    "## 3.4. 리뷰 페이지 접속"
   ]
  },
  {
   "cell_type": "code",
   "execution_count": 257,
   "metadata": {},
   "outputs": [
    {
     "name": "stdout",
     "output_type": "stream",
     "text": [
      "1 ==================\n",
      "제품별 리뷰 개수: 0\n",
      "no review\n",
      "2 ==================\n",
      "제품별 리뷰 개수: 0\n",
      "no review\n",
      "3 ==================\n",
      "제품별 리뷰 개수: 1\n",
      "사용자 아이디: KA_1********\n",
      "사용자 특징 개수: 1\n",
      "사용자 특징: 30대\n",
      "별점: 5\n",
      "리뷰 작성 날자: 23.01.04\n",
      "사용자 리뷰 내용: 너무 좋아요\n",
      "잘 쓸게요~\n",
      "감사합니다\n",
      "나한테 잘 맞아요~\n",
      "지인에게도 강추하고싶어요\n",
      "이 제품만 쓰게되고 찾게되고\n",
      "향 만족도 아주 만족해요\n",
      "자극도 자극이 없어요\n",
      "적당해요\n",
      "4 ==================\n",
      "제품별 리뷰 개수: 3\n",
      "사용자 아이디: KA_1********\n",
      "사용자 특징 개수: 1\n",
      "사용자 특징: 30대\n",
      "별점: 5\n",
      "리뷰 작성 날자: 23.01.07\n",
      "사용자 리뷰 내용: 겨울철 닥터벨머 시카 리커버리크림을 애용하는데 저렴하게 잘샀네요. 덤으로 어드밴스드 시카 펩타이드 앰플까지 너무 좋은 가격에 구매하게 되었어요. 시카 리커버리크림은 매번 자타입 용기만 사용했는데 튜브타입이라 사용하기 편하고 위생적이네요\n",
      "사용자 아이디: KA_1********\n",
      "사용자 특징 개수: 1\n",
      "사용자 특징: 30대\n",
      "별점: 5\n",
      "리뷰 작성 날자: 23.01.03\n",
      "사용자 리뷰 내용: 닥터벨머는 순하지만 기능도 좋아서 제가 지인들한테 추천하는 제품인데요!^^\n",
      "\n",
      "토너 바르고 크림 바르기 전에 에센스는 꼭 발라주고 있는데 시카 펩타이트 앰플은 바르면 쫀쫀하게 싹 흡수가 돼서 너무 좋더라구요!\n",
      "\n",
      "여행갈 때 샘플 챙겨갔는데 지인(민감성 피부)도 써보더니 이거 어디꺼냐고 물어볼 정도였으면 말 다했죠ㅎㅎ\n",
      "\n",
      "샘플 받은 거 쓰다가 마침 기획으로 나온 게 있어 구입했는데 팩까지 들어있네요~ 피부 컨디션 진짜 안 좋을 때 쓰면 효과 백방일 듯 합니다!^^\n",
      "잘쓸게요♡\n",
      "사용자 아이디: 11ya*****\n",
      "사용자 특징 개수: 6\n",
      "사용자 특징: 30대||^^||건성||^^||민감성||^^||미백||^^||주름개선/탄력||^^||민감성/트러블||^^||\n",
      "별점: 4\n",
      "리뷰 작성 날자: 22.12.09\n",
      "사용자 리뷰 내용: 닥터벨머 어드밴스드 시카 펩타이트 앰플이 처음 나왔을 때 써 보고 좋아 꾸준히 쓰다가 레드 프로 레티놀 세럼이 나와 그거 써 보느라 잠시 쉬었어요 시카 펩타이드 앰플은 촉촉하고 당김이 없고 무엇보다 트러블이 없어 좋아요 향이 은은해 부담없으며 겨울이 와 보습을 더 보충하려고 레드와 시카 앰플을 같이 쓰려고 구매했어요\n"
     ]
    }
   ],
   "source": [
    "product_url_list = []\n",
    "user_ID_list = []\n",
    "user_spec_list = []\n",
    "rating_list = []\n",
    "review_date_list = []\n",
    "review_cotents_list = []\n",
    "review_img_list = []\n",
    "\n",
    "plen = len(product_num_df);\n",
    "for idx in range(4):#plen):\n",
    "    print(idx+1, \"==================\")\n",
    "    product_url = \"https://www.naturecollection.com/mall/product/product-view.jsp?dpid=\" + product_num_df['url'][idx]\n",
    "\n",
    "    try:\n",
    "        driver.get(url = product_url)\n",
    "        ## 해당 URL 주소\n",
    "        product_url_list.append(product_url)\n",
    "        sleep(random.randint(3, 7))\n",
    "\n",
    "        try:\n",
    "            ## 클릭(리뷰)\n",
    "            review_button_XPATH = driver.find_elements(By.XPATH, \"/html/body/div[2]/div[2]/section/div/div[5]/ul/li[3]/a\")                          \n",
    "            review_button_XPATH[0].click()\n",
    "            sleep(random.randint(2,5))\n",
    "\n",
    "            try:\n",
    "                ## 사용자 아이디\n",
    "                user_ID_XPATH = driver.find_elements(By.XPATH, \"/html/body/div[2]/div[2]/section/div/div[10]/div[2]/ul/li/div[1]/div[3]/p[1]/span[1]\")\n",
    "                review_num = len(user_ID_XPATH)\n",
    "                print(\"제품별 리뷰 개수:\", review_num)\n",
    "\n",
    "                if review_num >= 100:\n",
    "                    for n in range(100):\n",
    "                        user_ID = user_ID_XPATH[n].text\n",
    "                        print(\"사용자 아이디:\", user_ID)\n",
    "                        user_ID_list.append(user_ID)\n",
    "\n",
    "                        if n != 0:\n",
    "                            product_url_list.insert(idx+n, product_url)\n",
    "                        sleep(random.randint(2,5))\n",
    "\n",
    "                        try:\n",
    "                            ## 사용자 특징(나이/건성)\n",
    "                            tmp = \"/html/body/div[2]/div[2]/section/div/div[10]/div[2]/ul/li[\" + str(n+1) + \"]/div[1]/div[3]/p[2]/span\"\n",
    "                            user_spec_XPATH = driver.find_elements(By.XPATH, tmp)\n",
    "                            slen = len(user_spec_XPATH)\n",
    "                            print(\"사용자 특징 개수:\", slen)\n",
    "\n",
    "                            user_spec = \"\"\n",
    "                            if slen > 1:\n",
    "                                for spec in range(slen):\n",
    "                                    user_spec = user_spec + user_spec_XPATH[spec].text\n",
    "                                    user_spec = user_spec + \"||^^||\"\n",
    "                                print(\"사용자 특징:\", user_spec)\n",
    "                                user_spec_list.append(user_spec)\n",
    "                                sleep(random.randint(2,5))\n",
    "                            elif slen == 1:\n",
    "                                user_spec = user_spec_XPATH[0].text\n",
    "                                print(\"사용자 특징:\", user_spec)\n",
    "                                user_spec_list.append(user_spec)\n",
    "                                sleep(random.randint(2,5))\n",
    "                        except:\n",
    "                            user_spec_list.append(\"FALSE\")\n",
    "                            sleep(random.randint(2,5))\n",
    "\n",
    "                        try:\n",
    "                            ## 별점\n",
    "                            rating_XPATH = driver.find_elements(By.XPATH, \"/html/body/div[2]/div[2]/section/div/div[10]/div[2]/ul/li[\"+str(n+1)+\"]/div[1]/div[1]/span/span\")\n",
    "                            rating = rating_XPATH[0].get_attribute('style')\n",
    "                            rating = rating.replace(\"width: 100%;\", \"5\")\n",
    "                            rating = rating.replace(\"width: 80%;\", \"4\")\n",
    "                            rating = rating.replace(\"width: 60%;\", \"3\")\n",
    "                            rating = rating.replace(\"width: 40%;\", \"2\")\n",
    "                            rating = rating.replace(\"width: 20%;\", \"1\")\n",
    "                            print(\"별점:\", rating)\n",
    "                            rating_list.append(rating)\n",
    "                            sleep(random.randint(2,5))\n",
    "                        except:\n",
    "                            rating_list.append(\"FALSE\")\n",
    "                            sleep(random.randint(2,5))\n",
    "\n",
    "                        try:\n",
    "                            ## 리뷰 작성 날자\n",
    "                            review_date_XPATH = driver.find_elements(By.XPATH, \"/html/body/div[2]/div[2]/section/div/div[10]/div[2]/ul/li[\"+str(n+1)+\"]/div[1]/div[3]/p[1]/span[2]\")\n",
    "                            review_date = review_date_XPATH[0].text\n",
    "                            print(\"리뷰 작성 날자:\", review_date)\n",
    "                            review_date_list.append(review_date)\n",
    "                            sleep(random.randint(2,5))\n",
    "                        except:\n",
    "                            review_date_list.append(\"FALSE\")\n",
    "                            sleep(random.randint(2,5))\n",
    "\n",
    "                        try:\n",
    "                            ## 사용자 리뷰 내용\n",
    "                            review_cotents_XPATH = driver.find_elements(By.XPATH, \"/html/body/div[2]/div[2]/section/div/div[10]/div[2]/ul/li[\"+str(n+1)+\"]/div[2]/a/p\")\n",
    "                            review_cotents = review_cotents_XPATH[0].text\n",
    "                            print(\"사용자 리뷰 내용:\", review_cotents)\n",
    "                            review_cotents_list.append(review_cotents)\n",
    "                            sleep(random.randint(2,5))\n",
    "                        except:\n",
    "                            review_cotents_list.append(\"FALSE\")\n",
    "                            sleep(random.randint(2,5))\n",
    "                    break\n",
    "\n",
    "                elif review_num >= 1:\n",
    "                    for n in range(review_num):\n",
    "                        user_ID = user_ID_XPATH[n].text\n",
    "                        print(\"사용자 아이디:\", user_ID)\n",
    "                        user_ID_list.append(user_ID)\n",
    "\n",
    "                        if n != 0:\n",
    "                            product_url_list.insert(idx+n, product_url)\n",
    "                        sleep(random.randint(2,5))\n",
    "\n",
    "                        try:\n",
    "                            ## 사용자 특징(나이/건성)\n",
    "                            tmp = \"/html/body/div[2]/div[2]/section/div/div[10]/div[2]/ul/li[\" + str(n+1) + \"]/div[1]/div[3]/p[2]/span\"\n",
    "                            user_spec_XPATH = driver.find_elements(By.XPATH, tmp)\n",
    "                            slen = len(user_spec_XPATH)\n",
    "                            print(\"사용자 특징 개수:\", slen)\n",
    "\n",
    "                            user_spec = \"\"\n",
    "                            if slen > 1:\n",
    "                                for spec in range(slen):\n",
    "                                    user_spec = user_spec + user_spec_XPATH[spec].text\n",
    "                                    user_spec = user_spec + \"||^^||\"\n",
    "                                print(\"사용자 특징:\", user_spec)\n",
    "                                user_spec_list.append(user_spec)\n",
    "                                sleep(random.randint(2,5))\n",
    "                            elif slen == 1:\n",
    "                                user_spec = user_spec_XPATH[0].text\n",
    "                                print(\"사용자 특징:\", user_spec)\n",
    "                                user_spec_list.append(user_spec)\n",
    "                                sleep(random.randint(2,5))\n",
    "                        except:\n",
    "                            user_spec_list.append(\"FALSE\")\n",
    "                            sleep(random.randint(2,5))\n",
    "\n",
    "                        try:\n",
    "                            ## 별점\n",
    "                            rating_XPATH = driver.find_elements(By.XPATH, \"/html/body/div[2]/div[2]/section/div/div[10]/div[2]/ul/li[\"+str(n+1)+\"]/div[1]/div[1]/span/span\")\n",
    "                            rating = rating_XPATH[0].get_attribute('style')\n",
    "                            rating = rating.replace(\"width: 100%;\", \"5\")\n",
    "                            rating = rating.replace(\"width: 80%;\", \"4\")\n",
    "                            rating = rating.replace(\"width: 60%;\", \"3\")\n",
    "                            rating = rating.replace(\"width: 40%;\", \"2\")\n",
    "                            rating = rating.replace(\"width: 20%;\", \"1\")\n",
    "\n",
    "                            print(\"별점:\", rating)\n",
    "                            rating_list.append(rating)\n",
    "                            sleep(random.randint(2,5))\n",
    "                        except:\n",
    "                            rating_list.append(\"FALSE\")\n",
    "                            sleep(random.randint(2,5))\n",
    "\n",
    "                        try:\n",
    "                            ## 리뷰 작성 날자\n",
    "                            review_date_XPATH = driver.find_elements(By.XPATH, \"/html/body/div[2]/div[2]/section/div/div[10]/div[2]/ul/li[\"+str(n+1)+\"]/div[1]/div[3]/p[1]/span[2]\")\n",
    "                            review_date = review_date_XPATH[0].text\n",
    "                            print(\"리뷰 작성 날자:\", review_date)\n",
    "                            review_date_list.append(review_date)\n",
    "                            sleep(random.randint(2,5))\n",
    "                        except:\n",
    "                            review_date_list.append(\"FALSE\")\n",
    "                            sleep(random.randint(2,5))\n",
    "\n",
    "                        try:\n",
    "                            ## 사용자 리뷰 내용\n",
    "                            review_cotents_XPATH = driver.find_elements(By.XPATH, \"/html/body/div[2]/div[2]/section/div/div[10]/div[2]/ul/li[\"+str(n+1)+\"]/div[2]/a/p\")\n",
    "                            review_cotents = review_cotents_XPATH[0].text\n",
    "                            print(\"사용자 리뷰 내용:\", review_cotents)\n",
    "                            review_cotents_list.append(review_cotents)\n",
    "                            sleep(random.randint(2,5))\n",
    "                        except:\n",
    "                            review_cotents_list.append(\"FALSE\")\n",
    "                            sleep(random.randint(2,5))\n",
    "                else:\n",
    "                    user_ID_list.append(\"NONE\")\n",
    "                    user_spec_list.append(\"NONE\")\n",
    "                    rating_list.append(\"NONE\")\n",
    "                    review_date_list.append(\"NONE\")\n",
    "                    review_cotents_list.append(\"NONE\")\n",
    "                    print(\"no review\")\n",
    "            except:\n",
    "                user_ID_list.append(\"FALSE\")\n",
    "                sleep(random.randint(2,5))\n",
    "\n",
    "        except:\n",
    "            user_ID_list.append(\"FALSE\")\n",
    "            user_spec_list.append(\"FALSE\")\n",
    "            rating_list.append(\"FALSE\")\n",
    "            review_date_list.append(\"FALSE\")\n",
    "            review_cotents_list.append(\"FALSE\")\n",
    "            sleep(random.randint(2,5))\n",
    "\n",
    "    except:\n",
    "        product_url_list.append(\"FALSE\")\n",
    "        sleep(random.randint(1,4))  "
   ]
  },
  {
   "cell_type": "markdown",
   "metadata": {},
   "source": [
    "## 17.드라이버 종료"
   ]
  },
  {
   "cell_type": "code",
   "execution_count": 258,
   "metadata": {},
   "outputs": [],
   "source": [
    "sleep(random.randint(3, 5))\n",
    "driver.close()"
   ]
  },
  {
   "cell_type": "code",
   "execution_count": 259,
   "metadata": {},
   "outputs": [
    {
     "name": "stdout",
     "output_type": "stream",
     "text": [
      "                                                 url       user_ID  \\\n",
      "0  https://www.naturecollection.com/mall/product/...          NONE   \n",
      "1  https://www.naturecollection.com/mall/product/...          NONE   \n",
      "2  https://www.naturecollection.com/mall/product/...  KA_1********   \n",
      "3  https://www.naturecollection.com/mall/product/...  KA_1********   \n",
      "4  https://www.naturecollection.com/mall/product/...  KA_1********   \n",
      "5  https://www.naturecollection.com/mall/product/...     11ya*****   \n",
      "\n",
      "                                           user_spec rating review_date  \\\n",
      "0                                               NONE   NONE        NONE   \n",
      "1                                               NONE   NONE        NONE   \n",
      "2                                                30대      5    23.01.04   \n",
      "3                                                30대      5    23.01.07   \n",
      "4                                                30대      5    23.01.03   \n",
      "5  30대||^^||건성||^^||민감성||^^||미백||^^||주름개선/탄력||^^|...      4    22.12.09   \n",
      "\n",
      "                                      review_cotents  \n",
      "0                                               NONE  \n",
      "1                                               NONE  \n",
      "2  너무 좋아요\\n잘 쓸게요~\\n감사합니다\\n나한테 잘 맞아요~\\n지인에게도 강추하고싶...  \n",
      "3  겨울철 닥터벨머 시카 리커버리크림을 애용하는데 저렴하게 잘샀네요. 덤으로 어드밴스드...  \n",
      "4  닥터벨머는 순하지만 기능도 좋아서 제가 지인들한테 추천하는 제품인데요!^^\\n\\n토...  \n",
      "5  닥터벨머 어드밴스드 시카 펩타이트 앰플이 처음 나왔을 때 써 보고 좋아 꾸준히 쓰다...  \n"
     ]
    }
   ],
   "source": [
    "review_df = pd.DataFrame([product_url_list, user_ID_list, user_spec_list, \n",
    "                        rating_list, review_date_list, review_cotents_list])\n",
    "review_df = review_df.transpose()\n",
    "review_df.columns = ['url', 'user_ID', 'user_spec',\n",
    "                    'rating', 'review_date', 'review_cotents']\n",
    "print(review_df)"
   ]
  },
  {
   "cell_type": "markdown",
   "metadata": {},
   "source": [
    "## 18. 파일 저장"
   ]
  },
  {
   "cell_type": "code",
   "execution_count": 261,
   "metadata": {},
   "outputs": [],
   "source": [
    "review_df.to_excel(\"230110_더페이스샵 리뷰.xlsx\")"
   ]
  },
  {
   "cell_type": "markdown",
   "metadata": {},
   "source": []
  }
 ],
 "metadata": {
  "kernelspec": {
   "display_name": "Python 3.8.2 64-bit",
   "language": "python",
   "name": "python3"
  },
  "language_info": {
   "codemirror_mode": {
    "name": "ipython",
    "version": 3
   },
   "file_extension": ".py",
   "mimetype": "text/x-python",
   "name": "python",
   "nbconvert_exporter": "python",
   "pygments_lexer": "ipython3",
   "version": "3.8.2"
  },
  "orig_nbformat": 4,
  "vscode": {
   "interpreter": {
    "hash": "79c199cb512e44450af18fd9ec1c3986347737fdfe6c9f5616f1278c92e18fc9"
   }
  }
 },
 "nbformat": 4,
 "nbformat_minor": 2
}
